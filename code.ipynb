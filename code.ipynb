{
 "cells": [
  {
   "cell_type": "code",
   "execution_count": 9,
   "metadata": {},
   "outputs": [],
   "source": [
    "# Import Các thư viện cần thiết\n",
    "import numpy as np\n",
    "import pandas as pd\n",
    "from sklearn.linear_model import LinearRegression\n",
    "from sklearn.linear_model import Ridge"
   ]
  },
  {
   "cell_type": "code",
   "execution_count": 13,
   "metadata": {},
   "outputs": [
    {
     "name": "stdout",
     "output_type": "stream",
     "text": [
      "0.728285491244\n"
     ]
    }
   ],
   "source": [
    "def getdata(path):\n",
    "    data = np.loadtxt(path)\n",
    "    one = np.ones((1 , data.shape[0])).T\n",
    "    X = data[:, :-1].reshape(data.shape[0], 2)\n",
    "    X1 = X[:, 0].reshape(data.shape[0], 1)\n",
    "    X2 = X[:, 1].reshape(data.shape[0], 1)\n",
    "    y = data[:, -1].reshape(data.shape[0], 1)\n",
    "    X = np.concatenate((one, X1, X2, X1**2, X2**2, X1*X2, np.abs(X1-X2), np.abs(X1+X2)), axis=1)\n",
    "    return X, y\n",
    "train_X, train_y = getdata(\"in.dta.txt\")\n",
    "test_X, test_y = getdata(\"out.dta.txt\")\n",
    "k=-3\n",
    "lam = (10**k)/(len(test_X))\n",
    "clf = Ridge(alpha=lam)\n",
    "clf.fit(train_X, train_y)\n",
    "print(clf.score(test_X, test_y))"
   ]
  },
  {
   "cell_type": "code",
   "execution_count": 14,
   "metadata": {},
   "outputs": [],
   "source": [
    "def train(X, y, k=None):\n",
    "    A = np.dot(X.T, X)\n",
    "    b = np.dot(X.T, y)\n",
    "    w = np.dot(np.linalg.pinv(A), b)\n",
    "    if k is not None:\n",
    "        lam = 10**k\n",
    "        term = np.dot(w.T[0], w.T[0])*(lam/len(X))\n",
    "        regularized = np.linalg.pinv(A+term)\n",
    "        w = np.dot(regularized, b)\n",
    "    return w\n",
    "\n",
    "    "
   ]
  },
  {
   "cell_type": "code",
   "execution_count": 15,
   "metadata": {},
   "outputs": [],
   "source": [
    "def test(X, y, w):\n",
    "    tys = np.sign(np.dot(X, w))\n",
    "    return len(y[tys!=y])/float(len(y))\n"
   ]
  },
  {
   "cell_type": "code",
   "execution_count": 16,
   "metadata": {},
   "outputs": [
    {
     "name": "stdout",
     "output_type": "stream",
     "text": [
      "Linear Regression with Weight Decay (k = -3):\n",
      "E_in: 0.028571, E_out: 0.084000\n",
      "Linear Regression with Weight Decay (k = -2):\n",
      "E_in: 0.028571, E_out: 0.080000\n",
      "Linear Regression with Weight Decay (k = -1):\n",
      "E_in: 0.028571, E_out: 0.068000\n",
      "Linear Regression with Weight Decay (k = 0):\n",
      "E_in: 0.028571, E_out: 0.064000\n",
      "Linear Regression with Weight Decay (k = 1):\n",
      "E_in: 0.057143, E_out: 0.064000\n",
      "Linear Regression with Weight Decay (k = 2):\n",
      "E_in: 0.057143, E_out: 0.064000\n",
      "Linear Regression with Weight Decay (k = 3):\n",
      "E_in: 0.057143, E_out: 0.064000\n",
      "Linear Regression with Weight Decay (k = None):\n",
      "E_in: 0.028571, E_out: 0.084000\n"
     ]
    }
   ],
   "source": [
    "#Câu 2, 3, 4, 5\n",
    "k=-3\n",
    "w = train(train_X, train_y, -3)\n",
    "print(\"Linear Regression with Weight Decay (k = -3):\")\n",
    "print(\"E_in: %f, E_out: %f\" % (test(train_X, train_y, w), test(test_X, test_y, w)))\n",
    "\n",
    "k=-2\n",
    "w = train(train_X, train_y, k)\n",
    "print(\"Linear Regression with Weight Decay (k = -2):\")\n",
    "print(\"E_in: %f, E_out: %f\" % (test(train_X, train_y, w), test(test_X, test_y, w)))\n",
    "\n",
    "k=-1\n",
    "w = train(train_X, train_y, k)\n",
    "print(\"Linear Regression with Weight Decay (k = -1):\")\n",
    "print(\"E_in: %f, E_out: %f\" % (test(train_X, train_y, w), test(test_X, test_y, w)))\n",
    "\n",
    "k=0\n",
    "w = train(train_X, train_y, k)\n",
    "print(\"Linear Regression with Weight Decay (k = 0):\")\n",
    "print(\"E_in: %f, E_out: %f\" % (test(train_X, train_y, w), test(test_X, test_y, w)))\n",
    "\n",
    "k=1\n",
    "w = train(train_X, train_y, k)\n",
    "print(\"Linear Regression with Weight Decay (k = 1):\")\n",
    "\n",
    "print(\"E_in: %f, E_out: %f\" % (test(train_X, train_y, w), test(test_X, test_y, w)))\n",
    "\n",
    "k=2\n",
    "w = train(train_X, train_y, k)\n",
    "print(\"Linear Regression with Weight Decay (k = 2):\")\n",
    "print(\"E_in: %f, E_out: %f\" % (test(train_X, train_y, w), test(test_X, test_y, w)))\n",
    "\n",
    "k=3\n",
    "w = train(train_X, train_y, k)\n",
    "print(\"Linear Regression with Weight Decay (k = 3):\")\n",
    "print(\"E_in: %f, E_out: %f\" % (test(train_X, train_y, w), test(test_X, test_y, w)))\n",
    "\n",
    "k=None\n",
    "w = train(train_X, train_y, k)\n",
    "print(\"Linear Regression with Weight Decay (k = None):\")\n",
    "print(\"E_in: %f, E_out: %f\" % (test(train_X, train_y, w), test(test_X, test_y, w)))\n",
    "\n",
    "\n",
    "\n"
   ]
  },
  {
   "cell_type": "markdown",
   "metadata": {},
   "source": [
    "**Câu 2:** Chọn đáp án A<br/>\n",
    "**Câu 3:** Chọn đáp án D<br/>\n",
    "**Câu 4:** Chọn đáp án E<br/>\n",
    "**Câu 5:** Chọn đáp án D<br/>\n",
    "**Câu 6:** Chọn đáp án B<br/>"
   ]
  },
  {
   "cell_type": "markdown",
   "metadata": {},
   "source": [
    "**Câu 7:** Chọn đáp án C <br/>\n",
    "\n",
    "chúng ta thấy rằng nếu C = 0, không có đa thức của degree ≥ Qo và đo đó degree đa thức lớn nhất trong bộ đa thức này là degree Qo - 1. Thus:\n",
    "\n",
    "H(10,0,3) Intersection H(10,0,4) = H2\n",
    "\n"
   ]
  },
  {
   "cell_type": "markdown",
   "metadata": {},
   "source": [
    "## Neural Networks\n",
    "\n",
    "**Câu 8:** Chọn đán án D\n",
    "Giải thích:<br/>\n",
    "\n",
    "s<sub>j</sub>'s được cho như sau:\n",
    "\n",
    "s<sub>j</sub><sup>(l)</sup> = &sum;(i=0;d<sup>(l-1)</sup>){w<sub>ij</sub><sup>(l)</sup>x<sub>i</sub><sup>(l-1)</sup>}. (1)\n",
    "\n",
    "\n",
    "\n",
    "&delta;<sub>j</sub><sup>(l)</sup> other than l = L có thể tính toán như sau:\n",
    "\n",
    "&delta;<sub>i</sub><sup>(l-1)</sup> = (1-(x<sub>i</sub><sup>(l-1)</sup>)<sup>2</sup>)&sum;(j=1;d<sup>(l)</sup>){w<sub>ij</sub><sup>(l)</sup>&delta;<sub>j</sub><sup>(l)</sup>} (2)\n",
    "\n",
    "\n",
    "Sau backpropagation, weights đã cập nhật với phương trình sau:\n",
    "\n",
    "\n",
    "w<sub>ij</sub><sup>(l)</sup> = w<sub>ij</sub><sup>(l)</sup> - &eta;x<sub>i</sub><sup>(l-1)</sup>&delta;<sub>j</sub><sup>(l)</sup> (3)\n",
    "\n",
    "\n",
    "### Tính toán operations cần cho backpropagation\n",
    "\n",
    "- Tính toán xi's yêu cầu dùng ** w<sub>i</sub><sup>(l)</sup>x<sub>i</sub><sup>(l-1)</sup>** terms vì x<sub>i</sub> = &theta;(s<sub>i</sub>) and equation (1) cho si's thi được cho ở trên. Input layer có 6 nodes x0 = 1, x1, x2, x3, x4, x5 đi vào 3 nodes trong layer 1, làm 18 operations. Layer 1 có 4 nodes (bao gồm i = 0 constant node) đi vào 1 node trong layer 2, làm 4 operations và 18 + 4 = **22** operations để tính toán tất cả cho xi's.\n",
    "- Đối với backpropagation proper, chúng ta không xem xét toán tử cần thiết để tính toán &delta;<sub>1</sub><sup>L</sup> (không có trong danh sách trên). Tính toán &delta;s cho l < 2, ta xem xét equation (2) cho ở trên với **w<sub>ij</sub><sup>(l)</sup>&delta;<sub>j</sub><sup>(l)</sup>**). Cho mỗi l, x<sub>0</sub> = 1 và equation (2)'s coefficient sẽ bằng 0 và &delta;<sub>0</sub>'s sẽ không ảnh hướng đến our operation count. Cho &delta;<sup>(1)</sup>'s, ta có 3 operations, 1 cho mỗi &delta; vì nó chỉ one term trong each right-hand sum w<sub>ij</sub>(2)&delta;<sub>j</sub>(2) vì d<sup>2</sup> =  1. Vì không có s<sub>i</sub> signals cho input layer l = 0, ta không thể tính toán bất kỳ &delta;<sub>i</sub>'s cho nó và l = 0 đóng góp 0 operations. Như vậy backpropogation ta có 3 + 0 = **3** operations.\n",
    "- Cập nhật trọng lượng yêu cầu dùng của **x<sub>i</sub><sup>(l-1)</sup>&delta;<sub>j</sub><sup>(l)</sup>** products. Chúng ta sử dụng weight, ta cần apply equation (3) và mỗi ứng dụng liên quan mỗi sản phẩm. Như ta thấy tính toán feedforward của i's, có 22 weights và **22** operations, 6 &times; 3 = 18 đi từ l=0 to l=1, 4 &times; 1 = 4 từ l=1 to l=2. \n",
    "- Như vậy tổng thể có 22 + 3 + 22 = **47** toán tử sử dụng.\n",
    "\n",
    "\n"
   ]
  },
  {
   "cell_type": "markdown",
   "metadata": {},
   "source": [
    "**Câu 9** Chọn đáp án A\n",
    "- Giải thích:\n",
    "    - Số lượng trọng số có thể có trong mạng có thể sẽ là nếu mỗi node trong hidden layers có trong layers riêng của nó. Chúng ta có thể có 10 weights cho input layers vào lớp ẩn đầu tiên và 36 weights, 1 cho mỗi trọng số có tổng là **46** weights.\n",
    "**Câu 10** Chọn đáp án\n",
    "- Giải thích\n",
    "    - Chuyển đổi từ 1 lớp sang yêu cầu kế tiếp &rho; = d<sup>(l-1)</sup> &times; (d<sup>(l)</sup> - 1) weights (vì ta không đưa vào x0 terms) và do đó chúng ta muốn bằng cách nào đó tối ưu hóa lượng này. Điều này xảy ra khi d<sup>(l-1)</sup> = d<sup>(l)</sup> - 1 vì sản phẩm nên gần nhất to forming a square as possible.\n",
    "    "
   ]
  },
  {
   "cell_type": "code",
   "execution_count": 2,
   "metadata": {},
   "outputs": [
    {
     "name": "stdout",
     "output_type": "stream",
     "text": [
      "Voi Chieu hidden layer:\n",
      "[22, 14]\n",
      "Yeu Cau 510 weights.\n"
     ]
    }
   ],
   "source": [
    "hidden_layers = [22,14]\n",
    "\n",
    "def number_of_weights(d_list):\n",
    "    prev_d = 10 #number of nodes in input list\n",
    "    num_w = 0 #number of weights\n",
    "    for d in d_list:\n",
    "        num_w = num_w + ((d- 1)  * prev_d)\n",
    "        prev_d = d\n",
    "    return num_w + d_list[-1]\n",
    "\n",
    "print(\"Voi Chieu hidden layer:\")\n",
    "print(hidden_layers)\n",
    "print(\"Yeu Cau %d weights.\" % number_of_weights(hidden_layers))\n"
   ]
  },
  {
   "cell_type": "markdown",
   "metadata": {},
   "source": []
  },
  {
   "cell_type": "code",
   "execution_count": null,
   "metadata": {},
   "outputs": [],
   "source": []
  }
 ],
 "metadata": {
  "kernelspec": {
   "display_name": "Python 3",
   "language": "python",
   "name": "python3"
  },
  "language_info": {
   "codemirror_mode": {
    "name": "ipython",
    "version": 3
   },
   "file_extension": ".py",
   "mimetype": "text/x-python",
   "name": "python",
   "nbconvert_exporter": "python",
   "pygments_lexer": "ipython3",
   "version": "3.6.5"
  }
 },
 "nbformat": 4,
 "nbformat_minor": 2
}

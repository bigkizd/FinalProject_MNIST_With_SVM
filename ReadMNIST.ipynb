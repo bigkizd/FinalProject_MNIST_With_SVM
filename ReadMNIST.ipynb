{
 "cells": [
  {
   "cell_type": "code",
   "execution_count": 2,
   "metadata": {},
   "outputs": [],
   "source": [
    "import numpy as np\n",
    "import pickle\n",
    "import gzip\n",
    "from sklearn.svm import LinearSVC, SVC\n",
    "from time import time\n",
    "from sklearn import metrics\n"
   ]
  },
  {
   "cell_type": "code",
   "execution_count": 3,
   "metadata": {},
   "outputs": [],
   "source": [
    "def read_mnist(mnist_file):\n",
    "    \"\"\"\n",
    "    Reads MNIST data.\n",
    "    \n",
    "    Parameters\n",
    "    ----------\n",
    "    mnist_file : string\n",
    "        The name of the MNIST file (e.g., 'mnist.pkl.gz').\n",
    "    \n",
    "    Returns\n",
    "    -------\n",
    "    (train_X, train_Y, val_X, val_Y, test_X, test_Y) : tuple\n",
    "        train_X : numpy array, shape (N=50000, d=784)\n",
    "            Input vectors of the training set.\n",
    "        train_Y: numpy array, shape (N=50000)\n",
    "            Outputs of the training set.\n",
    "        val_X : numpy array, shape (N=10000, d=784)\n",
    "            Input vectors of the validation set.\n",
    "        val_Y: numpy array, shape (N=10000)\n",
    "            Outputs of the validation set.\n",
    "        test_X : numpy array, shape (N=10000, d=784)\n",
    "            Input vectors of the test set.\n",
    "        test_Y: numpy array, shape (N=10000)\n",
    "            Outputs of the test set.\n",
    "    \"\"\"\n",
    "    f = gzip.open(mnist_file, 'rb')\n",
    "    train_data, val_data, test_data = pickle.load(f, encoding='latin1')\n",
    "    f.close()\n",
    "    \n",
    "    train_X, train_Y = train_data\n",
    "    val_X, val_Y = val_data\n",
    "    test_X, test_Y = test_data    \n",
    "    \n",
    "    return train_X, train_Y, val_X, val_Y, test_X, test_Y\n",
    "\n",
    "# get datasets\n",
    "train_X, train_Y, val_X, val_Y, test_X, test_Y = read_mnist('mnist.pkl.gz')"
   ]
  },
  {
   "cell_type": "code",
   "execution_count": null,
   "metadata": {},
   "outputs": [],
   "source": [
    "# Use SVM \n",
    "C=5.0\n",
    "\n",
    "linear_svm = SVC(C=C, gamma=0.05)\n",
    "clf = linear_svm.fit(train_X, train_Y)"
   ]
  },
  {
   "cell_type": "code",
   "execution_count": null,
   "metadata": {},
   "outputs": [],
   "source": [
    "#Make predictions using the features from the test data set\n",
    "predictions = clf.predict(test[features])\n",
    "\n",
    "#Display our predictions - they are either 0 or 1 for each training instance \n",
    "#depending on whether our algorithm believes the person survived or not.\n",
    "predictions"
   ]
  },
  {
   "cell_type": "code",
   "execution_count": null,
   "metadata": {},
   "outputs": [],
   "source": [
    "#Create a  DataFrame with the passengers ids and our prediction regarding whether they survived or not\n",
    "submission = pd.DataFrame({'Id':test['Id'],'label1':predictions})\n",
    "\n",
    "#Visualize the first 5 rows\n",
    "submission.head()"
   ]
  },
  {
   "cell_type": "code",
   "execution_count": null,
   "metadata": {},
   "outputs": [],
   "source": [
    "\n",
    "filenamefilename = 'Iris.csv'\n",
    "\n",
    "submission.to_csv(filename,index=False)\n",
    "\n",
    "print('Saved file: ' + filename)"
   ]
  },
  {
   "cell_type": "code",
   "execution_count": null,
   "metadata": {},
   "outputs": [],
   "source": []
  }
 ],
 "metadata": {
  "anaconda-cloud": {},
  "kernelspec": {
   "display_name": "Python 3",
   "language": "python",
   "name": "python3"
  },
  "language_info": {
   "codemirror_mode": {
    "name": "ipython",
    "version": 3
   },
   "file_extension": ".py",
   "mimetype": "text/x-python",
   "name": "python",
   "nbconvert_exporter": "python",
   "pygments_lexer": "ipython3",
   "version": "3.6.5"
  },
  "toc": {
   "nav_menu": {},
   "number_sections": false,
   "sideBar": true,
   "skip_h1_title": false,
   "title_cell": "Table of Contents",
   "title_sidebar": "Contents",
   "toc_cell": false,
   "toc_position": {},
   "toc_section_display": true,
   "toc_window_display": true
  }
 },
 "nbformat": 4,
 "nbformat_minor": 1
}

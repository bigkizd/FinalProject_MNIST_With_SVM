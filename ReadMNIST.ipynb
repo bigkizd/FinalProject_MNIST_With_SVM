{
 "cells": [
  {
   "cell_type": "code",
   "execution_count": 56,
   "metadata": {},
   "outputs": [],
   "source": [
    "import numpy as np\n",
    "import pickle\n",
    "import gzip\n",
    "from sklearn.svm import LinearSVC, SVC\n",
    "from time import time\n",
    "from sklearn import metrics\n"
   ]
  },
  {
   "cell_type": "code",
   "execution_count": 57,
   "metadata": {},
   "outputs": [],
   "source": [
    "def read_mnist(mnist_file):\n",
    "    \"\"\"\n",
    "    Reads MNIST data.\n",
    "    \n",
    "    Parameters\n",
    "    ----------\n",
    "    mnist_file : string\n",
    "        The name of the MNIST file (e.g., 'mnist.pkl.gz').\n",
    "    \n",
    "    Returns\n",
    "    -------\n",
    "    (train_X, train_Y, val_X, val_Y, test_X, test_Y) : tuple\n",
    "        train_X : numpy array, shape (N=50000, d=784)\n",
    "            Input vectors of the training set.\n",
    "        train_Y: numpy array, shape (N=50000)\n",
    "            Outputs of the training set.\n",
    "        val_X : numpy array, shape (N=10000, d=784)\n",
    "            Input vectors of the validation set.\n",
    "        val_Y: numpy array, shape (N=10000)\n",
    "            Outputs of the validation set.\n",
    "        test_X : numpy array, shape (N=10000, d=784)\n",
    "            Input vectors of the test set.\n",
    "        test_Y: numpy array, shape (N=10000)\n",
    "            Outputs of the test set.\n",
    "    \"\"\"\n",
    "    f = gzip.open(mnist_file, 'rb')\n",
    "    train_data, val_data, test_data = pickle.load(f, encoding='latin1')\n",
    "    f.close()\n",
    "    \n",
    "    train_X, train_Y = train_data\n",
    "    val_X, val_Y = val_data\n",
    "    test_X, test_Y = test_data    \n",
    "    \n",
    "    return train_X, train_Y, val_X, val_Y, test_X, test_Y\n",
    "\n",
    "# get datasets\n",
    "train_X, train_Y, val_X, val_Y, test_X, test_Y = read_mnist('mnist.pkl.gz')"
   ]
  },
  {
   "cell_type": "code",
   "execution_count": 58,
   "metadata": {},
   "outputs": [
    {
     "name": "stdout",
     "output_type": "stream",
     "text": [
      "Done with Validation in 75.605832 s\n",
      "Accuracy of Validation: 0.920\n",
      "Done with Test in 75.596854 s\n",
      "Accuracy of Test: 0.915\n"
     ]
    }
   ],
   "source": [
    "# Use SVM with Linear_Kernel\n",
    "\n",
    "def SVM_Linear_Kernel(C):\n",
    "    linear_svm = LinearSVC(C=C)\n",
    "    \n",
    "    linear_svm_time = time()\n",
    "    linear_svm.fit(train_X, train_Y)\n",
    "    linear_svm_time = time() - linear_svm_time\n",
    "    \n",
    "    # Validation\n",
    "    linear_svm_time_for_validation = time()\n",
    "    linear_svm_score = linear_svm.score(val_X, val_Y)\n",
    "    linear_svm_time_for_validation = linear_svm_time + time() - linear_svm_time_for_validation\n",
    "    \n",
    "    print(\"Done with Validation in %f s\" % linear_svm_time_for_validation)\n",
    "\n",
    "    print(\"Accuracy of Validation: %0.3f\" % linear_svm_score)\n",
    "    \n",
    "    \n",
    "    # Test\n",
    "    linear_svm_time_for_test = time()\n",
    "    linear_svm_score = linear_svm.score(test_X, test_Y)\n",
    "    linear_svm_time_for_test = linear_svm_time + time() - linear_svm_time_for_test\n",
    "    \n",
    "    print(\"Done with Test in %f s\" % linear_svm_time_for_test)\n",
    "\n",
    "    print(\"Accuracy of Test: %0.3f\" % linear_svm_score)\n",
    "\n",
    "\n",
    "SVM_Linear_Kernel(1.0)\n"
   ]
  },
  {
   "cell_type": "code",
   "execution_count": null,
   "metadata": {},
   "outputs": [],
   "source": [
    "# Use SVM With GaussianRBF Kernel\n",
    "\n",
    "def SVM_GaussianRBF_Kernel(C, gamma):\n",
    "    kernel_svm = SVC(C=C, gamma=gamma)\n",
    "    \n",
    "    kernel_svm_time = time()\n",
    "    kernel_svm.fit(train_X, train_Y)\n",
    "    kernel_svm_time = time() - kernel_svm_time\n",
    "    \n",
    "    # Validation\n",
    "    kernel_svm_time_for_validation = time()\n",
    "    kernel_svm_score = kernel_svm.score(val_X, val_Y)\n",
    "    kernel_svm_time_for_validation = kernel_svm_time + time() - kernel_svm_time_for_validation\n",
    "    \n",
    "    print(\"Done with Validation in %f s\" % kernel_svm_time_for_validation)\n",
    "\n",
    "    print(\"Accuracy of Validation: %0.3f\" % kernel_svm_score)\n",
    "    \n",
    "\n",
    "    # Test\n",
    "    kernel_svm_time_for_test = time()\n",
    "    kernel_svm_score = kernel_svm.score(test_X, test_Y)\n",
    "    kernel_svm_time_for_test = kernel_svm_time + time() - kernel_svm_time_for_test\n",
    "    \n",
    "    print(\"Done with Test in %f s\" % kernel_svm_time_for_test)\n",
    "\n",
    "    print(\"Accuracy of Test: %0.3f\" % kernel_svm_score)\n",
    "\n",
    "\n",
    "SVM_GaussianRBF_Kernel(0.1, 0.9)"
   ]
  },
  {
   "cell_type": "code",
   "execution_count": null,
   "metadata": {},
   "outputs": [],
   "source": [
    "# Test\n",
    "train_X, train_Y, val_X, val_Y, test_X, test_Y = read_mnist('mnist.pkl.gz')\n",
    "\n",
    "print('train_X.shape =', train_X.shape)\n",
    "print('train_Y.shape =', train_Y.shape)\n",
    "print('val_X.shape   =', val_X.shape)\n",
    "print('val_Y.shape   =', val_Y.shape)\n",
    "print('test_X.shape  =', test_X.shape)\n",
    "print('test_Y.shape  =', test_Y.shape)\n",
    "\n",
    "print('\\ntrain_X: min = %.3f, max = %.3f' %(train_X.min(), train_X.max()))\n",
    "print('train_Y: min = %d, max = %d' %(train_Y.min(), train_Y.max()))"
   ]
  },
  {
   "cell_type": "code",
   "execution_count": null,
   "metadata": {},
   "outputs": [],
   "source": []
  }
 ],
 "metadata": {
  "anaconda-cloud": {},
  "kernelspec": {
   "display_name": "Python 3",
   "language": "python",
   "name": "python3"
  },
  "language_info": {
   "codemirror_mode": {
    "name": "ipython",
    "version": 3
   },
   "file_extension": ".py",
   "mimetype": "text/x-python",
   "name": "python",
   "nbconvert_exporter": "python",
   "pygments_lexer": "ipython3",
   "version": "3.6.5"
  },
  "toc": {
   "nav_menu": {},
   "number_sections": false,
   "sideBar": true,
   "skip_h1_title": false,
   "title_cell": "Table of Contents",
   "title_sidebar": "Contents",
   "toc_cell": false,
   "toc_position": {},
   "toc_section_display": true,
   "toc_window_display": true
  }
 },
 "nbformat": 4,
 "nbformat_minor": 1
}
